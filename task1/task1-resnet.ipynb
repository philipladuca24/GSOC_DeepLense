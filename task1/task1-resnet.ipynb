{
 "cells": [
  {
   "cell_type": "code",
   "execution_count": null,
   "metadata": {},
   "outputs": [],
   "source": [
    "#res net model\n",
    "import tensorflow as tf\n",
    "import numpy as np\n",
    "import tqdm\n",
    "import matplotlib.pyplot as plt\n",
    "import os\n",
    "import pickle\n",
    "import sklearn.metrics as skl\n",
    "import gc"
   ]
  },
  {
   "cell_type": "code",
   "execution_count": null,
   "metadata": {},
   "outputs": [],
   "source": [
    "#load data\n",
    "label_dict = {0 : \"no\", 1 : \"sphere\", 2 : \"vort\"}\n",
    "with open('pickled/train_imgs.pkl', 'rb') as f:\n",
    "    train_imgs = pickle.load(f)\n",
    "with open('pickled/test_imgs.pkl', 'rb') as f:\n",
    "    test_imgs = pickle.load(f)\n",
    "with open('pickled/train_labels.pkl', 'rb') as f:\n",
    "    train_labels = pickle.load(f)\n",
    "with open('pickled/test_labels.pkl', 'rb') as f:\n",
    "    test_labels = pickle.load(f)\n"
   ]
  },
  {
   "cell_type": "code",
   "execution_count": null,
   "metadata": {},
   "outputs": [],
   "source": [
    "#one hot encoding\n",
    "one_hot_fun = tf.keras.Sequential([\n",
    "    tf.keras.layers.CategoryEncoding(num_tokens=3, output_mode=\"one_hot\")\n",
    "])\n",
    "\n",
    "train_labels = one_hot_fun(np.array(train_labels))\n",
    "test_labels = one_hot_fun(np.array(test_labels))"
   ]
  },
  {
   "cell_type": "code",
   "execution_count": null,
   "metadata": {},
   "outputs": [],
   "source": [
    "#create generator for augmentation\n",
    "def orthogonal_rot(image):\n",
    "    return np.rot90(image, np.random.choice([-1, 0, 1]))\n",
    "\n",
    "datagen = tf.keras.preprocessing.image.ImageDataGenerator(\n",
    "    horizontal_flip=True,\n",
    "    vertical_flip=True,\n",
    "    preprocessing_function=orthogonal_rot\n",
    ")"
   ]
  },
  {
   "cell_type": "code",
   "execution_count": null,
   "metadata": {},
   "outputs": [],
   "source": [
    "#res-net model\n",
    "def res_block(inputs, downsample, filters):\n",
    "    x = tf.keras.layers.Conv2D(filters, 3, strides=(1 if not downsample else 2), padding='same')(inputs)\n",
    "    x = tf.keras.layers.Activation('relu')(x)\n",
    "    x = tf.keras.layers.BatchNormalization()(x)\n",
    "    x = tf.keras.layers.Conv2D(filters, 3, strides=1, padding='same')(x)\n",
    "    x = tf.keras.layers.Activation('relu')(x)\n",
    "    x = tf.keras.layers.BatchNormalization()(x)\n",
    "    if downsample:\n",
    "        inputs = tf.keras.layers.Conv2D(filters, 1, strides=2, padding='same')(inputs)\n",
    "    x = tf.keras.layers.Add()([inputs, x])\n",
    "    x = tf.keras.layers.Activation('relu')(x)\n",
    "    x = tf.keras.layers.BatchNormalization()(x)\n",
    "    return x\n",
    "\n",
    "def res_net():\n",
    "    initial_inputs = tf.keras.Input(shape=(150,150,1))\n",
    "    filts = [32, 64, 128]\n",
    "\n",
    "    inputs = tf.keras.layers.Conv2D(filts[0], 7, strides=2, padding='same')(initial_inputs)\n",
    "    inputs = tf.keras.layers.Activation('relu')(inputs)\n",
    "    inputs = tf.keras.layers.BatchNormalization()(inputs)\n",
    "    inputs = tf.keras.layers.MaxPool2D()(inputs)\n",
    "    for x in filts:\n",
    "        inputs = res_block(inputs, (False if x == filts[0] else True), x)\n",
    "        inputs = res_block(inputs, False, x)\n",
    "    inputs = tf.keras.layers.GlobalMaxPool2D()(inputs)\n",
    "    inputs = tf.keras.layers.Flatten()(inputs)\n",
    "    inputs = tf.keras.layers.Dense(512)(inputs)\n",
    "    inputs = tf.keras.layers.Dropout(0.1)(inputs)\n",
    "    inputs = tf.keras.layers.Dense(3)(inputs)\n",
    "    outputs = tf.keras.layers.Activation('softmax')(inputs)\n",
    "\n",
    "    model = tf.keras.Model(initial_inputs, outputs)\n",
    "\n",
    "    model.compile(\n",
    "    optimizer=tf.keras.optimizers.Adam(learning_rate=0.0001),\n",
    "    loss = tf.keras.losses.CategoricalCrossentropy(),\n",
    "    metrics = tf.keras.metrics.CategoricalAccuracy()\n",
    "    )\n",
    "    return model\n",
    "\n",
    "callback = tf.keras.callbacks.EarlyStopping(monitor='loss', patience=10)\n",
    "model = res_net()\n",
    "\n",
    "model.summary()"
   ]
  },
  {
   "cell_type": "code",
   "execution_count": null,
   "metadata": {},
   "outputs": [],
   "source": [
    "#train models\n",
    "model.fit(datagen.flow(train_imgs, train_labels, batch_size=256), epochs=250, verbose=1, shuffle=True)\n",
    "model.save('model_resnet')"
   ]
  },
  {
   "cell_type": "code",
   "execution_count": null,
   "metadata": {},
   "outputs": [],
   "source": [
    "#prediction\n",
    "pred_label = model.predict(test_imgs)\n",
    "eval = model.evaluate(test_imgs,test_labels)"
   ]
  },
  {
   "cell_type": "code",
   "execution_count": null,
   "metadata": {},
   "outputs": [],
   "source": [
    "#roc, auc and plotting\n",
    "fig, c_ax = plt.subplots(3,1, figsize = (8, 24))\n",
    "\n",
    "def multiclass_roc_auc_score(test, pred, average='macro'):\n",
    "    for (idx, label) in enumerate(label_dict):\n",
    "        fpr, tpr, thresholds = skl.roc_curve(test[:,idx], pred[:,idx])\n",
    "        c_ax[idx].plot(fpr, tpr, label = '%s (AUC:%0.2f)'  % (label_dict[label], skl.auc(fpr, tpr)))\n",
    "        c_ax[idx].plot(fpr, fpr, 'b-', label = 'Random Guessing')\n",
    "        c_ax[idx].legend()\n",
    "        c_ax[idx].set_xlabel('False Positive Rate')\n",
    "        c_ax[idx].set_ylabel('True Positive Rate')\n",
    "    return skl.roc_auc_score(test, pred, average=average)\n",
    "print('ROC AUC score:', multiclass_roc_auc_score(np.array(test_labels), np.array(pred_label)))\n",
    "plt.show()"
   ]
  }
 ],
 "metadata": {
  "kernelspec": {
   "display_name": "deeplense",
   "language": "python",
   "name": "python3"
  },
  "language_info": {
   "codemirror_mode": {
    "name": "ipython",
    "version": 3
   },
   "file_extension": ".py",
   "mimetype": "text/x-python",
   "name": "python",
   "nbconvert_exporter": "python",
   "pygments_lexer": "ipython3",
   "version": "3.9.16"
  },
  "orig_nbformat": 4
 },
 "nbformat": 4,
 "nbformat_minor": 2
}
